{
  "nbformat": 4,
  "nbformat_minor": 0,
  "metadata": {
    "colab": {
      "private_outputs": true,
      "provenance": [],
      "collapsed_sections": [
        "mDgbUHAGgjLW",
        "gIfDvo9L0UH2"
      ],
      "gpuType": "T4",
      "cell_execution_strategy": "setup",
      "include_colab_link": true
    },
    "kernelspec": {
      "name": "python3",
      "display_name": "Python 3"
    },
    "language_info": {
      "name": "python"
    }
  },
  "cells": [
    {
      "cell_type": "markdown",
      "metadata": {
        "id": "view-in-github",
        "colab_type": "text"
      },
      "source": [
        "<a href=\"https://colab.research.google.com/github/bhasskararav/playstore_data_EDA/blob/main/Play_Store_App_Review_Analysis.ipynb\" target=\"_parent\"><img src=\"https://colab.research.google.com/assets/colab-badge.svg\" alt=\"Open In Colab\"/></a>"
      ]
    },
    {
      "cell_type": "markdown",
      "source": [
        "# **Project Name**    - **Play Store App Review Analysis**\n",
        "\n"
      ],
      "metadata": {
        "id": "vncDsAP0Gaoa"
      }
    },
    {
      "cell_type": "markdown",
      "source": [
        "##### **Project Type**    - **_Exploratory Data Analysis_**\n",
        "##### **Contribution**    - **_BATTIVILLI BHASKARARAO (Individual)_**"
      ],
      "metadata": {
        "id": "beRrZCGUAJYm"
      }
    },
    {
      "cell_type": "markdown",
      "source": [
        "# **Project Summary -**"
      ],
      "metadata": {
        "id": "FJNUwmbgGyua"
      }
    },
    {
      "cell_type": "markdown",
      "source": [
        "_The Play Store apps data is a goldmine of information for app developers. It can be used to gain insights into what features are most popular, what genres are most successful, and what factors contribute to app engagement and success._\n",
        "\n",
        "The data can be analyzed in a variety of ways, but some of the most common methods include:\n",
        "\n",
        "**Exploratory data analysis (EDA)** This involves looking at the data in different ways to get a sense of its overall structure and distribution. This can be done using simple statistical techniques, such as plotting the distribution of app ratings or the number of downloads by genre.\n",
        "\n",
        "**Data visualization:** This involves using charts and graphs to represent the data in a visually appealing way. This can help to identify trends and patterns that might not be obvious from the raw data.\n",
        "\n",
        "Here are some specific questions that an app developer might be interested in answering:\n",
        "\n",
        "* What are the most popular genres of apps?\n",
        "* What are the most popular features in each genre?\n",
        "* What are the factors that contribute to app engagement?\n",
        "* What are the factors that contribute to app success?\n",
        "* What are the trends in app development?\n",
        "\n",
        "By answering these questions, app developers can gain a better understanding of the market and how to create apps that are more likely to be successful."
      ],
      "metadata": {
        "id": "F6v_1wHtG2nS"
      }
    },
    {
      "cell_type": "markdown",
      "source": [
        "# **GitHub Link -**"
      ],
      "metadata": {
        "id": "w6K7xa23Elo4"
      }
    },
    {
      "cell_type": "markdown",
      "source": [
        "https://github.com/bhasskararav"
      ],
      "metadata": {
        "id": "h1o69JH3Eqqn"
      }
    },
    {
      "cell_type": "markdown",
      "source": [
        "# **Problem Statement**\n"
      ],
      "metadata": {
        "id": "yQaldy8SH6Dl"
      }
    },
    {
      "cell_type": "markdown",
      "source": [
        "**App developers are constantly looking for ways to create more successful apps. However, it can be difficult to know what features to include and how to market their apps in order to achieve success.**"
      ],
      "metadata": {
        "id": "DpeJGUA3kjGy"
      }
    },
    {
      "cell_type": "markdown",
      "source": [
        "#### **Define Your Business Objective?**"
      ],
      "metadata": {
        "id": "PH-0ReGfmX4f"
      }
    },
    {
      "cell_type": "markdown",
      "source": [
        " To gain insights into what features are most popular, what genres are most successful, and what factors contribute to app engagement and success. This information will be used to help app developers create more successful apps."
      ],
      "metadata": {
        "id": "PhDvGCAqmjP1"
      }
    },
    {
      "cell_type": "markdown",
      "source": [
        "# **General Guidelines** : -  "
      ],
      "metadata": {
        "id": "mDgbUHAGgjLW"
      }
    },
    {
      "cell_type": "markdown",
      "source": [
        "1.   Well-structured, formatted, and commented code is required.\n",
        "2.   Exception Handling, Production Grade Code & Deployment Ready Code will be a plus. Those students will be awarded some additional credits.\n",
        "     \n",
        "     The additional credits will have advantages over other students during Star Student selection.\n",
        "       \n",
        "             [ Note: - Deployment Ready Code is defined as, the whole .ipynb notebook should be executable in one go\n",
        "                       without a single error logged. ]\n",
        "\n",
        "3.   Each and every logic should have proper comments.\n",
        "4. You may add as many number of charts you want. Make Sure for each and every chart the following format should be answered.\n",
        "        \n",
        "\n",
        "```\n",
        "# Chart visualization code\n",
        "```\n",
        "            \n",
        "\n",
        "*   Why did you pick the specific chart?\n",
        "*   What is/are the insight(s) found from the chart?\n",
        "* Will the gained insights help creating a positive business impact?\n",
        "Are there any insights that lead to negative growth? Justify with specific reason.\n",
        "\n",
        "5. You have to create at least 20 logical & meaningful charts having important insights.\n",
        "\n",
        "\n",
        "[ Hints : - Do the Vizualization in  a structured way while following \"UBM\" Rule.\n",
        "\n",
        "U - Univariate Analysis,\n",
        "\n",
        "B - Bivariate Analysis (Numerical - Categorical, Numerical - Numerical, Categorical - Categorical)\n",
        "\n",
        "M - Multivariate Analysis\n",
        " ]\n",
        "\n",
        "\n",
        "\n"
      ],
      "metadata": {
        "id": "ZrxVaUj-hHfC"
      }
    },
    {
      "cell_type": "markdown",
      "source": [
        "# ***Let's Begin !***"
      ],
      "metadata": {
        "id": "O_i_v8NEhb9l"
      }
    },
    {
      "cell_type": "markdown",
      "source": [
        "## ***1. Know Your Data***"
      ],
      "metadata": {
        "id": "HhfV-JJviCcP"
      }
    },
    {
      "cell_type": "markdown",
      "source": [
        "### Import Libraries"
      ],
      "metadata": {
        "id": "Y3lxredqlCYt"
      }
    },
    {
      "cell_type": "code",
      "source": [
        "# Import Libraries\n",
        "import numpy as np     # Numby will help us perform on numerical values like mathematical functions\n",
        "import pandas as pd    # It provides a wide range of features that can be used to perform complex data analysis tasks.\n",
        "import seaborn as sns  #  It's for statistical data visualization.\n",
        "import matplotlib.pyplot as plt  # for creating static, animated, and interactive visualizations\n"
      ],
      "metadata": {
        "id": "M8Vqi-pPk-HR"
      },
      "execution_count": null,
      "outputs": []
    },
    {
      "cell_type": "markdown",
      "source": [
        "### Dataset Loading"
      ],
      "metadata": {
        "id": "3RnN4peoiCZX"
      }
    },
    {
      "cell_type": "code",
      "source": [
        "_# Using pandas library we can loan our data.\n",
        "Raw_Data = pd.read_csv('Play Store Data.csv')\n",
        "Raw_Reviews = pd.read_csv('User Reviews.csv')\n",
        "\n",
        "# Here I'm creating a copied data from the Raw main data sets. hence those are will be not disturbed\n",
        "app_data = Raw_Data.copy()\n",
        "app_reviews = Raw_Reviews.copy()\n"
      ],
      "metadata": {
        "id": "4CkvbW_SlZ_R"
      },
      "execution_count": null,
      "outputs": []
    },
    {
      "cell_type": "markdown",
      "source": [
        "### Dataset First View"
      ],
      "metadata": {
        "id": "x71ZqKXriCWQ"
      }
    },
    {
      "cell_type": "code",
      "source": [
        "# to look at the data we can use head() function from pandas\n",
        "app_data.head(10)"
      ],
      "metadata": {
        "id": "LWNFOSvLl09H"
      },
      "execution_count": null,
      "outputs": []
    },
    {
      "cell_type": "markdown",
      "source": [
        "### Dataset Rows & Columns count"
      ],
      "metadata": {
        "id": "7hBIi_osiCS2"
      }
    },
    {
      "cell_type": "code",
      "source": [
        "# Dataset Rows & Columns count, complete shape of the data\n",
        "app_data.shape"
      ],
      "metadata": {
        "id": "Kllu7SJgmLij"
      },
      "execution_count": null,
      "outputs": []
    },
    {
      "cell_type": "markdown",
      "source": [
        "### Dataset Information"
      ],
      "metadata": {
        "id": "JlHwYmJAmNHm"
      }
    },
    {
      "cell_type": "code",
      "source": [
        "# Dataset Info\n",
        "# We should know about our data first then only we can perform better on the data.\n",
        "app_data.info()"
      ],
      "metadata": {
        "id": "e9hRXRi6meOf"
      },
      "execution_count": null,
      "outputs": []
    },
    {
      "cell_type": "markdown",
      "source": [
        "**Basic understandings from the data**\n",
        "It’s important to know the different types of data/variables in the given dataset. These are the different types of data present in the dataset like float, object, string.\n",
        "\n",
        "We can observe that, our dataset contains the data of about 10841 apps found on the play store.\n",
        "\n",
        "Dataset has 13 columns which are the parameters of the apps. Let's look at each column -\n",
        "\n",
        "* App - Name of the app\n",
        "* Category - type of the app\n",
        "* Rating - rated by the users out of 5\n",
        "* Reviews - number of reviews given by users\n",
        "* Size - size of the app in mb\n",
        "* Installs - number of instalations of app\n",
        "* Type - free or paid\n",
        "* Price - price in $ of paid apps\n",
        "* Content Rating - rating for which users can use app\n",
        "* Genres - category or type of app\n",
        "* Last Updated - date on which app updated last time\n",
        "* Current Ver - current version of the app\n",
        "* Android Ver - android version which app supports"
      ],
      "metadata": {
        "id": "v0snXToZ0fd0"
      }
    },
    {
      "cell_type": "markdown",
      "source": [
        "#### Duplicate Values"
      ],
      "metadata": {
        "id": "35m5QtbWiB9F"
      }
    },
    {
      "cell_type": "code",
      "source": [
        "# Dataset Duplicate Value Count, this is fisrt and most important step in data cleaning.\n",
        "\n",
        "duplicate_data = app_data.duplicated(keep='first') # finding and assinging duplicated data on the duplicate_data variable from the data.\n",
        "print(duplicate_data)\n",
        "number_of_duplicate_values = duplicate_data.sum() # count of the duplicated values.\n",
        "\n",
        "print(number_of_duplicate_values)"
      ],
      "metadata": {
        "id": "1sLdpKYkmox0"
      },
      "execution_count": null,
      "outputs": []
    },
    {
      "cell_type": "markdown",
      "source": [
        "## Handling the Duplicated values"
      ],
      "metadata": {
        "id": "8DsMDhTb87rU"
      }
    },
    {
      "cell_type": "code",
      "source": [
        "# checking the duplicates and handling them\n",
        "# droping the duplicates\n",
        "app_data.drop_duplicates('App', inplace=True)\n",
        "\n",
        "app_data.shape"
      ],
      "metadata": {
        "id": "s-g-c1wt9GKL"
      },
      "execution_count": null,
      "outputs": []
    },
    {
      "cell_type": "markdown",
      "source": [
        "#### Missing Values/Null Values"
      ],
      "metadata": {
        "id": "PoPl-ycgm1ru"
      }
    },
    {
      "cell_type": "code",
      "source": [
        "# Missing Values/Null Values Count\n",
        "app_data.isnull()\n",
        "\n",
        "# Check if there are any null values in the data\n",
        "app_data.isnull()\n",
        "# Find the columns that contain null values\n",
        "null_columns = app_data.columns[app_data.isnull().any()]\n",
        "# Count the number of null values in each column\n",
        "app_data[null_columns].isnull().sum()\n"
      ],
      "metadata": {
        "id": "GgHWkxvamxVg"
      },
      "execution_count": null,
      "outputs": []
    },
    {
      "cell_type": "code",
      "source": [
        "# Visualizing the missing values\n",
        "# Create a bar chart of the null values in the app_data dataframe\n",
        "plt.bar(app_data.columns, app_data.isnull().sum())\n",
        "plt.show()"
      ],
      "metadata": {
        "id": "3q5wnI3om9sJ"
      },
      "execution_count": null,
      "outputs": []
    },
    {
      "cell_type": "markdown",
      "source": [
        "### What did you know about your dataset?"
      ],
      "metadata": {
        "id": "H0kj-8xxnORC"
      }
    },
    {
      "cell_type": "markdown",
      "source": [
        "In dateset we have **10841 rows and 13 columns**. there is duplicates values also present in our data.\n",
        "1463 null values in _Rating column_, _Type_ and _Content Rating_ each columns has 1 null values. _Current Ver_ cloumn 8 and _Android Ver_ 3 null or missing values presents our data. after droping null values from App column there is **9660 rows and 13 columns** are there in data.\n"
      ],
      "metadata": {
        "id": "gfoNAAC-nUe_"
      }
    },
    {
      "cell_type": "markdown",
      "source": [
        "## ***2. Understanding Your Variables***"
      ],
      "metadata": {
        "id": "nA9Y7ga8ng1Z"
      }
    },
    {
      "cell_type": "code",
      "source": [
        "# Dataset Columns\n",
        "\n",
        "print(app_data.columns)"
      ],
      "metadata": {
        "id": "j7xfkqrt5Ag5"
      },
      "execution_count": null,
      "outputs": []
    },
    {
      "cell_type": "markdown",
      "source": [
        "**Columns present in data**\n",
        "* App\n",
        "* Category\n",
        "* Rating\n",
        "* Reviews\n",
        "* Size\n",
        "* Installs\n",
        "* Type\n",
        "* Price\n",
        "* Content Rating\n",
        "* Genres\n",
        "* Last Updated\n",
        "* Current Ver\n",
        "* Android Ver"
      ],
      "metadata": {
        "id": "ST0duWeMRP6Z"
      }
    },
    {
      "cell_type": "code",
      "source": [
        "# Dataset Describe\n",
        "app_data.describe()"
      ],
      "metadata": {
        "id": "DnOaZdaE5Q5t"
      },
      "execution_count": null,
      "outputs": []
    },
    {
      "cell_type": "markdown",
      "source": [
        "### Variables Description"
      ],
      "metadata": {
        "id": "PBTbrJXOngz2"
      }
    },
    {
      "cell_type": "markdown",
      "source": [
        "**App:** Name of the application.\n",
        "\n",
        "**Category:** Category of the application.\n",
        "\n",
        "**Rating:** Average rating of the application which given by the users out of 5.\n",
        "\n",
        "**Reviews:** Reviews for the application which given by the users.\n",
        "\n",
        "**Size:** Application size to install.\n",
        "\n",
        "**Installs:** Total installations of the application.\n",
        "\n",
        "**Type:** Type of the app like Paid or Free details.\n",
        "\n",
        "**Price:** If it's paid app then price of the app.\n",
        "\n",
        "**Content Rating:** Content category given for who can be a user.\n",
        "\n",
        "**Genres:** which Category of the application.\n",
        "\n",
        "**Last Updated:** detail of the app When was the last version updated.\n",
        "\n",
        "**Current Ver:** Present and latest availability version of the Application.\n",
        "\n",
        "**Android Ver:** details of Compatibility with which Android Version."
      ],
      "metadata": {
        "id": "aJV4KIxSnxay"
      }
    },
    {
      "cell_type": "markdown",
      "source": [
        "### Check Unique Values for each variable."
      ],
      "metadata": {
        "id": "u3PMJOP6ngxN"
      }
    },
    {
      "cell_type": "code",
      "source": [
        "# Check Unique Values for each variable.\n",
        "app_data.dtypes\n",
        "for column in app_data.columns:\n",
        "  Unique_values = app_data[column].unique()\n",
        "  print(Unique_values)\n",
        "\n"
      ],
      "metadata": {
        "id": "zms12Yq5n-jE"
      },
      "execution_count": null,
      "outputs": []
    },
    {
      "cell_type": "code",
      "source": [
        "# Check Unique Values for each variable.\n",
        "print(app_data['Category'].unique())\n",
        "\n",
        "print(app_data['Size'].unique())\n",
        "\n"
      ],
      "metadata": {
        "id": "NNjKQJ-f_af9"
      },
      "execution_count": null,
      "outputs": []
    },
    {
      "cell_type": "markdown",
      "source": [
        "## 3. ***Data Wrangling***"
      ],
      "metadata": {
        "id": "dauF4eBmngu3"
      }
    },
    {
      "cell_type": "markdown",
      "source": [
        "### Data Wrangling Code"
      ],
      "metadata": {
        "id": "bKJF3rekwFvQ"
      }
    },
    {
      "cell_type": "code",
      "source": [
        "# Checking for the Null Values\n",
        "app_data[null_columns].isnull().sum()"
      ],
      "metadata": {
        "id": "QPBg18QgRiRT"
      },
      "execution_count": null,
      "outputs": []
    },
    {
      "cell_type": "markdown",
      "source": [
        "As above data we can see there is missinmg data in Rating, Type, Content Rating, Current Ver, and Android Ver.\n",
        "\n",
        "Let's handling the missing value.\n",
        "start with **Type**"
      ],
      "metadata": {
        "id": "OqG63zB3RAyD"
      }
    },
    {
      "cell_type": "code",
      "source": [
        "# Checking missing values in Type column\n",
        "\n",
        "app_data[app_data['Type'].isna()]"
      ],
      "metadata": {
        "id": "wk-9a2fpoLcV"
      },
      "execution_count": null,
      "outputs": []
    },
    {
      "cell_type": "markdown",
      "source": [
        "Here we can see one missing value in Type column. and we can able to see there Installs column is zero so we can consider this application maybe not available. and we can say if it's available, this app category is also Free because Price of this app is also zero. so we can replace the Type as Free."
      ],
      "metadata": {
        "id": "_pBGlVvqLiuw"
      }
    },
    {
      "cell_type": "code",
      "source": [
        "# Handling the missing value ins Type\n",
        "app_data['Type'].fillna('Free', inplace= True)\n",
        "app_data[app_data['Type'].isna()]"
      ],
      "metadata": {
        "id": "5eR9ZnfgQYo5"
      },
      "execution_count": null,
      "outputs": []
    },
    {
      "cell_type": "markdown",
      "source": [
        "Now check with the **Content Rating** column"
      ],
      "metadata": {
        "id": "6snvbWXeQ6KW"
      }
    },
    {
      "cell_type": "code",
      "source": [
        "# Checking missing values in Content Rating column\n",
        "app_data[app_data['Content Rating'].isna()]"
      ],
      "metadata": {
        "id": "_GLqowIETIfM"
      },
      "execution_count": null,
      "outputs": []
    },
    {
      "cell_type": "code",
      "source": [],
      "metadata": {
        "id": "hkZJvdHzWA7d"
      },
      "execution_count": null,
      "outputs": []
    },
    {
      "cell_type": "markdown",
      "source": [
        "In this data we can able to see data is completely mismatched. once check with rating column in this row, it's 19 but where user can give out of 5 rating only.(this will be the outlier of the data) so the date is mismatched with all the columns present in the row so, better to drop this row from the data."
      ],
      "metadata": {
        "id": "YSIT5jyzUgTx"
      }
    },
    {
      "cell_type": "code",
      "source": [
        "#Droping missing value from Content Rating. which the row data is mismatched.\n",
        "app_data.dropna(subset=['Content Rating'], inplace= True)"
      ],
      "metadata": {
        "id": "P4431uZtV_Pg"
      },
      "execution_count": null,
      "outputs": []
    },
    {
      "cell_type": "markdown",
      "source": [
        "Now coming to the 2 column in the missing vaule category. they are **Current Ver and Android Ver**. I think those are not important features to Analyze the data. Those will change every time. Hense we can drop them instead of handling the missing the values."
      ],
      "metadata": {
        "id": "69TmhZ-VW5oT"
      }
    },
    {
      "cell_type": "code",
      "source": [
        "#Droping the columns of Current Ver and, Android Ver.\n",
        "\n",
        "app_data.drop(['Android Ver','Current Ver'], axis= 1, inplace= True)"
      ],
      "metadata": {
        "id": "_ubnVxKoaJuR"
      },
      "execution_count": null,
      "outputs": []
    },
    {
      "cell_type": "markdown",
      "source": [
        "Now check with the **Rating** columns which given by the users have 1463 missing values. This rating column is very important for the Developers to improve and develop the application. so let's check the statistical views and tabs for the column to handle those missing values."
      ],
      "metadata": {
        "id": "Pzh0vWvqa_1R"
      }
    },
    {
      "cell_type": "code",
      "source": [
        "#Plot distribution of Rating to check the skewness of data.\n",
        "sns.distplot(app_data['Rating'])\n",
        "plt.show()"
      ],
      "metadata": {
        "id": "Dcq4PnL6cGu1"
      },
      "execution_count": null,
      "outputs": []
    },
    {
      "cell_type": "markdown",
      "source": [
        "As per the plot we can see the data it's left skewed data. and more than 50% data is above 4 Rating. let's check with stats to confirm more."
      ],
      "metadata": {
        "id": "HvHTCoeFdN8s"
      }
    },
    {
      "cell_type": "code",
      "source": [
        "#Stats of the Rating column\n",
        "app_data['Rating'].describe()"
      ],
      "metadata": {
        "id": "tCCb5Tf6cwCY"
      },
      "execution_count": null,
      "outputs": []
    },
    {
      "cell_type": "code",
      "source": [
        "app_data['Rating'].median()"
      ],
      "metadata": {
        "id": "l-lWjGBjdHvY"
      },
      "execution_count": null,
      "outputs": []
    },
    {
      "cell_type": "markdown",
      "source": [
        "As per the plot and stats we can see the 75% data is above 4 Ratings so we can replace the missing data with Median."
      ],
      "metadata": {
        "id": "4PjuyS7aeAgs"
      }
    },
    {
      "cell_type": "code",
      "source": [
        "# Replacing the missing values with Median of the Ratings\n",
        "median_value= app_data['Rating'].median() #calculating the median value and assign to the variable\n",
        "# Replacing the values\n",
        "app_data['Rating'].fillna(median_value, inplace= True)"
      ],
      "metadata": {
        "id": "7KEtKA2Veeel"
      },
      "execution_count": null,
      "outputs": []
    },
    {
      "cell_type": "markdown",
      "source": [
        "Almost all the missing values handled in a better way.\n",
        "Let's check with our data now."
      ],
      "metadata": {
        "id": "qkjuJDtgfq8D"
      }
    },
    {
      "cell_type": "code",
      "source": [
        "#After handlig the misssing values checking the data\n",
        "app_data.isna().sum()"
      ],
      "metadata": {
        "id": "f8ycjMCzf6Ov"
      },
      "execution_count": null,
      "outputs": []
    },
    {
      "cell_type": "markdown",
      "source": [
        "Great... Now in our data there is no missing values.\n",
        "we done with cleasnig part of the Data Wrangling. let's check the data is there any Transforming need to done or not."
      ],
      "metadata": {
        "id": "nAP0yhz9gI9-"
      }
    },
    {
      "cell_type": "code",
      "source": [
        "# After cleaning the data basic info\n",
        "app_data.info()"
      ],
      "metadata": {
        "id": "Z4QhRvKvgmSI"
      },
      "execution_count": null,
      "outputs": []
    },
    {
      "cell_type": "markdown",
      "source": [
        "Now we need to change the data types according to the data present in columns. **Reviews and Size** columns data are numarical data but data type is object. So, we need to change convert them into Int or Float data types."
      ],
      "metadata": {
        "id": "HlQo309fFYmT"
      }
    },
    {
      "cell_type": "code",
      "source": [
        "#Changing the data type of the Review column.\n",
        "app_data['Reviews'] = app_data.Reviews.astype(int)"
      ],
      "metadata": {
        "id": "A-fcu4n4GqN5"
      },
      "execution_count": null,
      "outputs": []
    },
    {
      "cell_type": "code",
      "source": [
        "#Let's check once the unique values of the Size column.\n",
        "app_data['Size'].unique()"
      ],
      "metadata": {
        "id": "7iGmC8KnJ23f"
      },
      "execution_count": null,
      "outputs": []
    },
    {
      "cell_type": "markdown",
      "source": [
        "Next Column is Size, we can obsearv the data there few data is in KB and few data is in MB format. so we need to conver them into single format. we will remove M and convert kB to MB by replacing K with e-3.\n",
        "\n",
        "* and one more thing need to be noted there is some applications size given like it's Varies with device. so we can't predick them replace better to drop them."
      ],
      "metadata": {
        "id": "nzlL_WrdHGui"
      }
    },
    {
      "cell_type": "code",
      "source": [
        "#Converting and changing data  types of Size\n",
        "app_data['Size'] = app_data['Size'].apply(lambda x: x.replace('M', '')) #Removing M\n",
        "app_data['Size'] = app_data['Size'].apply(lambda x: x.replace('k', 'e-3')) # converting K into e-3\n",
        "app_data = app_data[app_data['Size'] != 'Varies with device']\n",
        "\n",
        "#Changing data type from object to float.\n",
        "app_data['Size'] = app_data.Size.astype(float)"
      ],
      "metadata": {
        "id": "pfbf22sVK2M_"
      },
      "execution_count": null,
      "outputs": []
    },
    {
      "cell_type": "markdown",
      "source": [
        "Now need to convert **Price** column. and first of all we need to remove the $ symbol from the data points. then we can convert the data type into float."
      ],
      "metadata": {
        "id": "1ncS2GrJM0wS"
      }
    },
    {
      "cell_type": "code",
      "source": [
        "#Removing $ symbol from the data.\n",
        "app_data['Price'] = app_data['Price'].apply(lambda x: x.replace('$', '') if isinstance(x, str) else x)\n",
        "\n",
        "\n",
        "#COnverting the data type from object to float\n",
        "app_data['Price'] = app_data.Price.astype(float)"
      ],
      "metadata": {
        "id": "ijYzLivhUjWy"
      },
      "execution_count": null,
      "outputs": []
    },
    {
      "cell_type": "markdown",
      "source": [
        "Now we need to convert the **Installs** column. again we need to remove **+** and **','** symbols from the data."
      ],
      "metadata": {
        "id": "GvABB3_6WBUL"
      }
    },
    {
      "cell_type": "code",
      "source": [
        "#Removing + and , symbols from the column\n",
        "# First, remove '+' and ',' symbols from the 'Installs' column as strings\n",
        "app_data['Installs'] = app_data['Installs'].apply(lambda x: str(x).replace('+', '').replace(',', '') if isinstance(x, str) else x)\n",
        "\n",
        "# Now, convert the 'Installs' column to float data type\n",
        "app_data['Installs'] = app_data['Installs'].astype(int)\n"
      ],
      "metadata": {
        "id": "DVMwAgQT-kjE"
      },
      "execution_count": null,
      "outputs": []
    },
    {
      "cell_type": "markdown",
      "source": [
        "* Now looking at the **last updated** column it contains the date on which the app is updated or launched last time. It is the object type which we have to convert date in the date-time format."
      ],
      "metadata": {
        "id": "Pp0SxEKGtjNZ"
      }
    },
    {
      "cell_type": "code",
      "source": [
        "# Converting the data type of the Last Upadte\n",
        "from datetime import datetime\n",
        "import pandas as pd\n",
        "\n",
        "def get_date(date_string):\n",
        "    date_obj = datetime.strptime(date_string, '%B %d, %Y').date()\n",
        "    date_obj = pd.to_datetime(date_obj)\n",
        "    return date_obj\n",
        "app_data['Last Updated'] = app_data['Last Updated'].apply(get_date)"
      ],
      "metadata": {
        "id": "ShQ8jh28zpGf"
      },
      "execution_count": null,
      "outputs": []
    },
    {
      "cell_type": "markdown",
      "source": [
        "* Almost all the Data cleaning process has been done, so let's see again entire data."
      ],
      "metadata": {
        "id": "LRRAuu7dq-lo"
      }
    },
    {
      "cell_type": "code",
      "source": [
        "# We done some modifications in data right, so better we reset the data for proper index.\n",
        "app_data.reset_index(drop=True, inplace=True)\n"
      ],
      "metadata": {
        "id": "-WJxauS6sQdC"
      },
      "execution_count": null,
      "outputs": []
    },
    {
      "cell_type": "code",
      "source": [
        "# Checking the head of the data\n",
        "app_data.head()"
      ],
      "metadata": {
        "id": "iiK0kku4rwj1"
      },
      "execution_count": null,
      "outputs": []
    },
    {
      "cell_type": "code",
      "source": [
        "# Checking the tail of the data\n",
        "app_data.tail()"
      ],
      "metadata": {
        "id": "ie9A1V5rsokH"
      },
      "execution_count": null,
      "outputs": []
    },
    {
      "cell_type": "code",
      "source": [
        "# info about the data\n",
        "app_data.info()"
      ],
      "metadata": {
        "id": "a13yrS2Is9rm"
      },
      "execution_count": null,
      "outputs": []
    },
    {
      "cell_type": "code",
      "source": [
        "# Descriptive analysis stats\n",
        "app_data.describe()"
      ],
      "metadata": {
        "id": "lgkE6n4Z0Dww"
      },
      "execution_count": null,
      "outputs": []
    },
    {
      "cell_type": "markdown",
      "source": [
        "# **App Reviews file exploring**"
      ],
      "metadata": {
        "id": "DC1zlD2LWPDv"
      }
    },
    {
      "cell_type": "code",
      "source": [
        "# App reviews data shape view\n",
        "app_reviews.shape"
      ],
      "metadata": {
        "id": "b1xEQMYNWbXF"
      },
      "execution_count": null,
      "outputs": []
    },
    {
      "cell_type": "code",
      "source": [
        "# Apps review data view\n",
        "app_reviews.head(10)"
      ],
      "metadata": {
        "id": "ujAlc0mOW1Be"
      },
      "execution_count": null,
      "outputs": []
    },
    {
      "cell_type": "code",
      "source": [
        "# checking the data types\n",
        "app_reviews.dtypes"
      ],
      "metadata": {
        "id": "QuwnWn6jsiDF"
      },
      "execution_count": null,
      "outputs": []
    },
    {
      "cell_type": "code",
      "source": [
        "#checking for the null values\n",
        "app_reviews.isnull().sum()"
      ],
      "metadata": {
        "id": "AQ5dV_cVssus"
      },
      "execution_count": null,
      "outputs": []
    },
    {
      "cell_type": "code",
      "source": [
        "# Merging the data\n",
        "Merged_data = pd.merge(app_data, app_reviews)"
      ],
      "metadata": {
        "id": "OgGTLIyrOgmn"
      },
      "execution_count": null,
      "outputs": []
    },
    {
      "cell_type": "code",
      "source": [
        "# View the data after merge\n",
        "Merged_data.head()"
      ],
      "metadata": {
        "id": "MOaprsbEhISl"
      },
      "execution_count": null,
      "outputs": []
    },
    {
      "cell_type": "code",
      "source": [
        "# checking for the null values\n",
        "Merged_data.isnull().sum()"
      ],
      "metadata": {
        "id": "r_-0pni1huNB"
      },
      "execution_count": null,
      "outputs": []
    },
    {
      "cell_type": "code",
      "source": [
        "# Droping the null values\n",
        "Merged_data = Merged_data.dropna(subset = ['Sentiment', 'Translated_Review'])"
      ],
      "metadata": {
        "id": "dOHrgFIGiZLz"
      },
      "execution_count": null,
      "outputs": []
    },
    {
      "cell_type": "code",
      "source": [
        "Merged_data.describe()"
      ],
      "metadata": {
        "id": "FeFPMckQjyWP"
      },
      "execution_count": null,
      "outputs": []
    },
    {
      "cell_type": "markdown",
      "source": [
        "### What all manipulations have you done and insights you found?"
      ],
      "metadata": {
        "id": "MSa1f5Uengrz"
      }
    },
    {
      "cell_type": "markdown",
      "source": [
        "* First of We checked for the dupicate values.\n",
        "  we deleted the duplicated values. after deleting those data shape was 9660,13.\n",
        "* Then We checked for the missing/Null values.\n",
        "  There was 1463 in Rating, each 1 in Type and Content Rating, 8 in Current Ver, 3 in Android Ver present in the data.\n",
        "    * Type = Filled with free for because price zero.\n",
        "    *\tContent Rating = Dropped the row (mismatch data was there)\n",
        "    *\tAndroid Ver = Filled with median (75% of the data is above 4)\n",
        "* Reviews column converted into integer from object data type.\n",
        "* Size column removed M and k converted them into float.\n",
        "* INstall column removed +, and converted into integer.\n",
        "* Price removed $, converted the data type into float.\n",
        "* Last updated column data changed from object to datetype by changing\n",
        "  the data formate.\n",
        "* Merged the App data and reviews data.\n",
        "* Dropped the null values from the Merged data.\n"
      ],
      "metadata": {
        "id": "LbyXE7I1olp8"
      }
    },
    {
      "cell_type": "markdown",
      "source": [
        "## ***4. Data Vizualization, Storytelling & Experimenting with charts : Understand the relationships between variables***"
      ],
      "metadata": {
        "id": "GF8Ens_Soomf"
      }
    },
    {
      "cell_type": "markdown",
      "source": [
        "#### Chart - 1"
      ],
      "metadata": {
        "id": "0wOQAZs5pc--"
      }
    },
    {
      "cell_type": "code",
      "source": [
        "# Char -1\n",
        "#Pie chart plotting to check which Category have most of users.\n",
        "import matplotlib.pyplot as plt\n",
        "\n",
        "# Assuming you have already loaded and prepared your 'app_data' DataFrame\n",
        "\n",
        "# Grouping the data by 'Category' and summing 'Installs'\n",
        "category_installs = app_data.groupby('Category')['Installs'].sum()\n",
        "\n",
        "# Plotting the pie chart\n",
        "plt.figure(figsize=(12, 12))  # Optional: Set the figure size\n",
        "plt.pie(category_installs, labels=category_installs.index, autopct='%1.1f%%')\n",
        "plt.title('App Installs by Category')\n",
        "\n",
        "plt.axis('equal')  # Equal aspect ratio ensures the pie chart is circular.\n",
        "plt.show()"
      ],
      "metadata": {
        "id": "7v_ESjsspbW7"
      },
      "execution_count": null,
      "outputs": []
    },
    {
      "cell_type": "markdown",
      "source": [
        "##### 1. Why did you pick the specific chart?"
      ],
      "metadata": {
        "id": "K5QZ13OEpz2H"
      }
    },
    {
      "cell_type": "markdown",
      "source": [
        "* I picked this chart to visual the majority of the users using which category application."
      ],
      "metadata": {
        "id": "XESiWehPqBRc"
      }
    },
    {
      "cell_type": "markdown",
      "source": [
        "##### 2. What is/are the insight(s) found from the chart?"
      ],
      "metadata": {
        "id": "lQ7QKXXCp7Bj"
      }
    },
    {
      "cell_type": "markdown",
      "source": [
        "* Most of the installs for the Gaming categorty which is 36.7%.\n",
        "* Second highest is Family category which is stands at 11.3%.\n",
        "* Third highest is Tools cagetory which stands at 9.2%."
      ],
      "metadata": {
        "id": "C_j1G7yiqdRP"
      }
    },
    {
      "cell_type": "markdown",
      "source": [
        "##### 3. Will the gained insights help creating a positive business impact?\n",
        "Are there any insights that lead to negative growth? Justify with specific reason."
      ],
      "metadata": {
        "id": "448CDAPjqfQr"
      }
    },
    {
      "cell_type": "markdown",
      "source": [
        "* Based on your observation, it appears that the majority of users tend to install game applications more frequently than other categories. This can be attributed to the fact that while users might use only one or a few popular social or utility applications regularly, they often install multiple game applications to enjoy various games. Additionally, users might continuously switch between different games, installing new ones when they become bored with the current selection. Consequently, game category apps have the advantage of gaining users rapidly, provided they are interesting and appealing. This sets them apart from other categories of apps, which may not experience the same level of frequent installation and user engagement."
      ],
      "metadata": {
        "id": "3cspy4FjqxJW"
      }
    },
    {
      "cell_type": "markdown",
      "source": [
        "#### Chart - 2"
      ],
      "metadata": {
        "id": "KSlN3yHqYklG"
      }
    },
    {
      "cell_type": "code",
      "source": [
        "# Chart - 2 visualization code\n",
        "import matplotlib.pyplot as plt\n",
        "\n",
        "# Assuming you have already loaded and prepared your 'app_data' DataFrame\n",
        "\n",
        "# Grouping the data by 'Category' and summing 'Installs'\n",
        "category_installs = app_data.groupby('Category')['Installs'].sum()\n",
        "\n",
        "# Sorting the categories based on the number of installs in descending order\n",
        "category_installs = category_installs.sort_values(ascending=False)\n",
        "\n",
        "# Plotting the bar chart\n",
        "plt.figure(figsize=(10, 6))  # Optional: Set the figure size\n",
        "plt.bar(category_installs.index, category_installs)\n",
        "plt.xlabel('App Category')\n",
        "plt.ylabel('Number of Installs')\n",
        "plt.title('Number of Installs by App Category')\n",
        "plt.xticks(rotation=90)  # Optional: Rotate the category labels for better readability\n",
        "plt.tight_layout()  # Optional: Adjust the spacing to prevent label cutoff\n",
        "plt.show()\n"
      ],
      "metadata": {
        "id": "R4YgtaqtYklH"
      },
      "execution_count": null,
      "outputs": []
    },
    {
      "cell_type": "markdown",
      "source": [
        "##### 1. Why did you pick the specific chart?"
      ],
      "metadata": {
        "id": "t6dVpIINYklI"
      }
    },
    {
      "cell_type": "markdown",
      "source": [
        "*  As the above Pie Chart we understood the majority of the category which more installs. so here we can able to see the Number of installs for those category."
      ],
      "metadata": {
        "id": "5aaW0BYyYklI"
      }
    },
    {
      "cell_type": "markdown",
      "source": [
        "##### 2. What is/are the insight(s) found from the chart?"
      ],
      "metadata": {
        "id": "ijmpgYnKYklI"
      }
    },
    {
      "cell_type": "markdown",
      "source": [
        "* Game Category has the highest number of installs with 1.15+M.\n",
        "* Second highest category is Family 0.39+ installs.\n",
        "* Third highest category is Tools with 0.35+M installs"
      ],
      "metadata": {
        "id": "PSx9atu2YklI"
      }
    },
    {
      "cell_type": "markdown",
      "source": [
        "##### 3. Will the gained insights help creating a positive business impact?\n",
        "Are there any insights that lead to negative growth? Justify with specific reason."
      ],
      "metadata": {
        "id": "-JiQyfWJYklI"
      }
    },
    {
      "cell_type": "markdown",
      "source": [
        "* Consequently, game category apps have the advantage of gaining users rapidly,\n",
        "  provided they are interesting and appealing. But its hard to keep them as active users.\n",
        "  "
      ],
      "metadata": {
        "id": "BcBbebzrYklV"
      }
    },
    {
      "cell_type": "markdown",
      "source": [
        "#### Chart - 3"
      ],
      "metadata": {
        "id": "EM7whBJCYoAo"
      }
    },
    {
      "cell_type": "code",
      "source": [
        "# Chart - 3 visualization code\n",
        "# creating dataframe to get count of apps per Category and Content Rating\n",
        "df = app_data.groupby(['Category','Content Rating']).count().reset_index()\n",
        "df = df[['Category','Content Rating','App']]\n",
        "df1 = df.pivot(columns='Content Rating', index='Category', values='App')\n",
        "\n",
        "# Ploting bar chart\n",
        "color_lst = ['gold', 'dodgerblue', 'deeppink','purple','red','magenta']\n",
        "df1.plot(kind='bar', stacked= True, color= color_lst, figsize= (14,7))\n",
        "plt.ylabel(\"Count\")\n",
        "plt.title(\"Categories and their targeted age groups\")\n",
        "plt.show()"
      ],
      "metadata": {
        "id": "t6GMdE67YoAp"
      },
      "execution_count": null,
      "outputs": []
    },
    {
      "cell_type": "markdown",
      "source": [
        "##### 1. Why did you pick the specific chart?"
      ],
      "metadata": {
        "id": "fge-S5ZAYoAp"
      }
    },
    {
      "cell_type": "markdown",
      "source": [
        "* I choosen this bar chart to explore the data in the categories that they are targetting on which age group people mostly."
      ],
      "metadata": {
        "id": "5dBItgRVYoAp"
      }
    },
    {
      "cell_type": "markdown",
      "source": [
        "##### 2. What is/are the insight(s) found from the chart?"
      ],
      "metadata": {
        "id": "85gYPyotYoAp"
      }
    },
    {
      "cell_type": "markdown",
      "source": [
        "* Here we can see there Highest applications are there in Family category. and\n",
        "  most of the application content is for everyone.\n",
        "* and Second highest category is Game which is targetting more Teenages group.\n",
        "* Coming to Tools category, its almost targetting everyone.\n",
        "* And rest of categories almost targetting the all age group people but Auto  \n",
        "  and Vehicles, Libraries and Demo, Parenting categories are targetting everyone."
      ],
      "metadata": {
        "id": "4jstXR6OYoAp"
      }
    },
    {
      "cell_type": "markdown",
      "source": [
        "##### 3. Will the gained insights help creating a positive business impact?\n",
        "Are there any insights that lead to negative growth? Justify with specific reason."
      ],
      "metadata": {
        "id": "RoGjAbkUYoAp"
      }
    },
    {
      "cell_type": "markdown",
      "source": [
        "* As per plot we can understand where the Game developers targetting the teen most\n",
        "  there is the most of the installs was done.\n",
        "* Rest of application are mostly targetting to everyone."
      ],
      "metadata": {
        "id": "zfJ8IqMcYoAp"
      }
    },
    {
      "cell_type": "markdown",
      "source": [
        "#### Chart - 4"
      ],
      "metadata": {
        "id": "4Of9eVA-YrdM"
      }
    },
    {
      "cell_type": "code",
      "source": [
        "# Chart - 4 visualization code\n",
        "# Grouping the data by 'Category'\n",
        "grp = app_data.groupby('Category')\n",
        "\n",
        "# Calculating the average number of installs and total price for each category\n",
        "x = grp['Installs'].agg(np.mean)\n",
        "y = grp['Price'].agg(np.sum)\n",
        "z = grp['Reviews'].agg(np.mean)\n",
        "# Plotting the data\n",
        "plt.figure(figsize=(16, 5))\n",
        "plt.plot(x.index, y, 'r--', color='b')\n",
        "plt.xticks(rotation=90)  # Corrected the spelling of 'rotation'\n",
        "plt.title('Category Vs Pricing')\n",
        "plt.xlabel('Categories')\n",
        "plt.ylabel('Prices')\n",
        "plt.show()"
      ],
      "metadata": {
        "id": "irlUoxc8YrdO"
      },
      "execution_count": null,
      "outputs": []
    },
    {
      "cell_type": "markdown",
      "source": [
        "##### 1. Why did you pick the specific chart?"
      ],
      "metadata": {
        "id": "iky9q4vBYrdO"
      }
    },
    {
      "cell_type": "markdown",
      "source": [
        "* I choosen this Chart to check the Price details by the category"
      ],
      "metadata": {
        "id": "aJRCwT6DYrdO"
      }
    },
    {
      "cell_type": "markdown",
      "source": [
        "##### 2. What is/are the insight(s) found from the chart?"
      ],
      "metadata": {
        "id": "F6T5p64dYrdO"
      }
    },
    {
      "cell_type": "markdown",
      "source": [
        "* Family, Finance, Lifestyle, and Medical Category application are having high\n",
        "  paid application than others."
      ],
      "metadata": {
        "id": "Xx8WAJvtYrdO"
      }
    },
    {
      "cell_type": "markdown",
      "source": [
        "##### 3. Will the gained insights help creating a positive business impact?\n",
        "Are there any insights that lead to negative growth? Justify with specific reason."
      ],
      "metadata": {
        "id": "y-Ehk30pYrdP"
      }
    },
    {
      "cell_type": "markdown",
      "source": [
        "* Finanace and Lifestyle categories have less applications and less count of\n",
        "  installs too but pricing is higher. may that is the reason those don't have more users."
      ],
      "metadata": {
        "id": "jLNxxz7MYrdP"
      }
    },
    {
      "cell_type": "markdown",
      "source": [
        "#### Chart - 5"
      ],
      "metadata": {
        "id": "bamQiAODYuh1"
      }
    },
    {
      "cell_type": "code",
      "source": [
        "# Chart - 5 visualization code\n",
        "# Plotting the data\n",
        "plt.figure(figsize=(16, 5))\n",
        "plt.plot(x.index, z, 'r--', color='b')\n",
        "plt.xticks(rotation=90)  # Corrected the spelling of 'rotation'\n",
        "plt.title('Category Vs Reviews')\n",
        "plt.xlabel('Categories')\n",
        "plt.ylabel('Reviews')\n",
        "plt.show()"
      ],
      "metadata": {
        "id": "TIJwrbroYuh3"
      },
      "execution_count": null,
      "outputs": []
    },
    {
      "cell_type": "markdown",
      "source": [
        "##### 1. Why did you pick the specific chart?"
      ],
      "metadata": {
        "id": "QHF8YVU7Yuh3"
      }
    },
    {
      "cell_type": "markdown",
      "source": [
        "* I choosen this plot to check reviews contribution by the user which devided  \n",
        "  by the category."
      ],
      "metadata": {
        "id": "dcxuIMRPYuh3"
      }
    },
    {
      "cell_type": "markdown",
      "source": [
        "##### 2. What is/are the insight(s) found from the chart?"
      ],
      "metadata": {
        "id": "GwzvFGzlYuh3"
      }
    },
    {
      "cell_type": "markdown",
      "source": [
        "* There is huge responce from the Games category users and mostly for creative\n",
        "  application & communication application got the most reviews from the users."
      ],
      "metadata": {
        "id": "uyqkiB8YYuh3"
      }
    },
    {
      "cell_type": "markdown",
      "source": [
        "##### 3. Will the gained insights help creating a positive business impact?\n",
        "Are there any insights that lead to negative growth? Justify with specific reason."
      ],
      "metadata": {
        "id": "qYpmQ266Yuh3"
      }
    },
    {
      "cell_type": "markdown",
      "source": [
        "* Reviews are playing mojarity role in terms of getting new users. hence there\n",
        "  is more reviews for Games category."
      ],
      "metadata": {
        "id": "_WtzZ_hCYuh4"
      }
    },
    {
      "cell_type": "markdown",
      "source": [
        "#### Chart - 6"
      ],
      "metadata": {
        "id": "OH-pJp9IphqM"
      }
    },
    {
      "cell_type": "code",
      "source": [
        "# Chart - 6 visualization code\n",
        "# Plotting the chart to see the data of paid apps Vs free app\n",
        "\n",
        "free_apps = app_data[app_data['Type'] == 'Free']['Installs']\n",
        "paid_apps = app_data[app_data['Type'] == 'Paid']['Installs']\n",
        "\n",
        "plt.figure(figsize=(6, 6))\n",
        "plt.bar(['Free Apps', 'Paid Apps'], [free_apps.sum(), paid_apps.sum()])\n",
        "plt.title('Total Installs for Free Apps Vs. Paid Apps')\n",
        "plt.xlabel('App Type')\n",
        "plt.ylabel('Total Installs')\n",
        "plt.show()\n"
      ],
      "metadata": {
        "id": "kuRf4wtuphqN"
      },
      "execution_count": null,
      "outputs": []
    },
    {
      "cell_type": "markdown",
      "source": [
        "##### 1. Why did you pick the specific chart?"
      ],
      "metadata": {
        "id": "bbFf2-_FphqN"
      }
    },
    {
      "cell_type": "markdown",
      "source": [
        "* I choosen this plot to check the installation count by the price category."
      ],
      "metadata": {
        "id": "loh7H2nzphqN"
      }
    },
    {
      "cell_type": "markdown",
      "source": [
        "##### 2. What is/are the insight(s) found from the chart?"
      ],
      "metadata": {
        "id": "_ouA3fa0phqN"
      }
    },
    {
      "cell_type": "markdown",
      "source": [
        "* Obviously Free apps will get more users. Here we can see the same result."
      ],
      "metadata": {
        "id": "VECbqPI7phqN"
      }
    },
    {
      "cell_type": "markdown",
      "source": [
        "##### 3. Will the gained insights help creating a positive business impact?\n",
        "Are there any insights that lead to negative growth? Justify with specific reason."
      ],
      "metadata": {
        "id": "Seke61FWphqN"
      }
    },
    {
      "cell_type": "markdown",
      "source": [
        "* Free application will reach to more users. if they want to get revenue they\n",
        "  can place add instead of collecting fund to get a user."
      ],
      "metadata": {
        "id": "DW4_bGpfphqN"
      }
    },
    {
      "cell_type": "markdown",
      "source": [
        "#### Chart - 7"
      ],
      "metadata": {
        "id": "PIIx-8_IphqN"
      }
    },
    {
      "cell_type": "code",
      "source": [
        "# Chart - 7 visualization code\n",
        "category_counts = app_data['Category'].value_counts()\n",
        "\n",
        "plt.figure(figsize=(12, 6))\n",
        "plt.bar(category_counts.index, category_counts.values)\n",
        "plt.xticks(rotation=90)\n",
        "plt.xlabel('Category')\n",
        "plt.ylabel('Number of Apps')\n",
        "plt.title('Number of Apps in Each Category')\n",
        "plt.show()"
      ],
      "metadata": {
        "id": "lqAIGUfyphqO"
      },
      "execution_count": null,
      "outputs": []
    },
    {
      "cell_type": "markdown",
      "source": [
        "##### 1. Why did you pick the specific chart?"
      ],
      "metadata": {
        "id": "t27r6nlMphqO"
      }
    },
    {
      "cell_type": "markdown",
      "source": [
        "I choosen this plot to check how many application are there in each Category."
      ],
      "metadata": {
        "id": "iv6ro40sphqO"
      }
    },
    {
      "cell_type": "markdown",
      "source": [
        "##### 2. What is/are the insight(s) found from the chart?"
      ],
      "metadata": {
        "id": "r2jJGEOYphqO"
      }
    },
    {
      "cell_type": "markdown",
      "source": [
        "* We can see there is more application are in Family, Game and Tools."
      ],
      "metadata": {
        "id": "Po6ZPi4hphqO"
      }
    },
    {
      "cell_type": "markdown",
      "source": [
        "##### 3. Will the gained insights help creating a positive business impact?\n",
        "Are there any insights that lead to negative growth? Justify with specific reason."
      ],
      "metadata": {
        "id": "b0JNsNcRphqO"
      }
    },
    {
      "cell_type": "markdown",
      "source": [
        "*"
      ],
      "metadata": {
        "id": "xvSq8iUTphqO"
      }
    },
    {
      "cell_type": "markdown",
      "source": [
        "#### Chart - 8"
      ],
      "metadata": {
        "id": "BZR9WyysphqO"
      }
    },
    {
      "cell_type": "code",
      "source": [
        "# Chart - 8 visualization code\n",
        "content_rating_counts = app_data['Content Rating'].value_counts()\n",
        "\n",
        "plt.figure(figsize=(8, 8))\n",
        "plt.xticks(rotation=90)\n",
        "plt.pie(content_rating_counts, labels=content_rating_counts.index, autopct='%1.1f%%')\n",
        "plt.title('Distribution of Content Ratings')\n",
        "plt.show()"
      ],
      "metadata": {
        "id": "TdPTWpAVphqO"
      },
      "execution_count": null,
      "outputs": []
    },
    {
      "cell_type": "markdown",
      "source": [
        "##### 1. Why did you pick the specific chart?"
      ],
      "metadata": {
        "id": "jj7wYXLtphqO"
      }
    },
    {
      "cell_type": "markdown",
      "source": [
        "I choosen this plot to check the Distribution of the content rating"
      ],
      "metadata": {
        "id": "Ob8u6rCTphqO"
      }
    },
    {
      "cell_type": "markdown",
      "source": [
        "##### 2. What is/are the insight(s) found from the chart?"
      ],
      "metadata": {
        "id": "eZrbJ2SmphqO"
      }
    },
    {
      "cell_type": "markdown",
      "source": [
        "* 82% application are for Everyone\n",
        "* 10.6% are for Teens\n",
        "* 4.0% are Mature 17+\n",
        "* and 3.2% are 10+"
      ],
      "metadata": {
        "id": "mZtgC_hjphqO"
      }
    },
    {
      "cell_type": "markdown",
      "source": [
        "##### 3. Will the gained insights help creating a positive business impact?\n",
        "Are there any insights that lead to negative growth? Justify with specific reason."
      ],
      "metadata": {
        "id": "rFu4xreNphqO"
      }
    },
    {
      "cell_type": "markdown",
      "source": [
        "* Almost most of the applications are for Everyone. few percent are there for\n",
        "  others."
      ],
      "metadata": {
        "id": "ey_0qi68phqO"
      }
    },
    {
      "cell_type": "markdown",
      "source": [
        "#### Chart - 9"
      ],
      "metadata": {
        "id": "YJ55k-q6phqO"
      }
    },
    {
      "cell_type": "code",
      "source": [
        "# Chart - 9 visualization code\n",
        "plt.figure(figsize=(10, 6))\n",
        "plt.plot(app_data['Rating'], app_data['Reviews'], 'o')\n",
        "plt.xlabel('Rating')\n",
        "plt.ylabel('Reviews')\n",
        "plt.title('Rating vs. Reviews')\n",
        "plt.show()"
      ],
      "metadata": {
        "id": "B2aS4O1ophqO"
      },
      "execution_count": null,
      "outputs": []
    },
    {
      "cell_type": "markdown",
      "source": [
        "##### 1. Why did you pick the specific chart?"
      ],
      "metadata": {
        "id": "gCFgpxoyphqP"
      }
    },
    {
      "cell_type": "markdown",
      "source": [
        "I choosen this plot to check relation between  Ratings & Reviews."
      ],
      "metadata": {
        "id": "TVxDimi2phqP"
      }
    },
    {
      "cell_type": "markdown",
      "source": [
        "##### 2. What is/are the insight(s) found from the chart?"
      ],
      "metadata": {
        "id": "OVtJsKN_phqQ"
      }
    },
    {
      "cell_type": "markdown",
      "source": [
        "* We can see the plot there top rated applications have high reviews too."
      ],
      "metadata": {
        "id": "ngGi97qjphqQ"
      }
    },
    {
      "cell_type": "markdown",
      "source": [
        "##### 3. Will the gained insights help creating a positive business impact?\n",
        "Are there any insights that lead to negative growth? Justify with specific reason."
      ],
      "metadata": {
        "id": "lssrdh5qphqQ"
      }
    },
    {
      "cell_type": "markdown",
      "source": [
        "* Where there is good ratings were given there we can see the reviews also  \n",
        "  more. and its leasds to get more users too."
      ],
      "metadata": {
        "id": "tBpY5ekJphqQ"
      }
    },
    {
      "cell_type": "markdown",
      "source": [
        "#### Chart - 10"
      ],
      "metadata": {
        "id": "U2RJ9gkRphqQ"
      }
    },
    {
      "cell_type": "code",
      "source": [
        "# Chart - 10 visualization code\n",
        "plt.figure(figsize=(10, 6))\n",
        "plt.scatter(app_data['Rating'], app_data['Installs'], alpha=0.5)\n",
        "plt.xlabel('Rating')\n",
        "plt.ylabel('Installs')\n",
        "plt.title('Rating vs. Installs')\n",
        "plt.show()"
      ],
      "metadata": {
        "id": "GM7a4YP4phqQ"
      },
      "execution_count": null,
      "outputs": []
    },
    {
      "cell_type": "markdown",
      "source": [
        "##### 1. Why did you pick the specific chart?"
      ],
      "metadata": {
        "id": "1M8mcRywphqQ"
      }
    },
    {
      "cell_type": "markdown",
      "source": [
        "I choosen this plot to show the relation between Ratings and Installs."
      ],
      "metadata": {
        "id": "8agQvks0phqQ"
      }
    },
    {
      "cell_type": "markdown",
      "source": [
        "##### 2. What is/are the insight(s) found from the chart?"
      ],
      "metadata": {
        "id": "tgIPom80phqQ"
      }
    },
    {
      "cell_type": "markdown",
      "source": [
        "* As we can see there is High rated application have high installs."
      ],
      "metadata": {
        "id": "Qp13pnNzphqQ"
      }
    },
    {
      "cell_type": "markdown",
      "source": [
        "##### 3. Will the gained insights help creating a positive business impact?\n",
        "Are there any insights that lead to negative growth? Justify with specific reason."
      ],
      "metadata": {
        "id": "JMzcOPDDphqR"
      }
    },
    {
      "cell_type": "markdown",
      "source": [
        "* Obviously if application rating is good then definitely installs will\n",
        "  increase."
      ],
      "metadata": {
        "id": "R4Ka1PC2phqR"
      }
    },
    {
      "cell_type": "markdown",
      "source": [
        "#### Chart - 11"
      ],
      "metadata": {
        "id": "x-EpHcCOp1ci"
      }
    },
    {
      "cell_type": "code",
      "source": [
        "# Chart - 11 visualization code\n",
        "plt.figure(figsize=(8, 6))\n",
        "plt.boxplot(app_data['Price'])\n",
        "plt.ylabel('Price')\n",
        "plt.title('Distribution of App Prices')\n",
        "plt.show()"
      ],
      "metadata": {
        "id": "mAQTIvtqp1cj"
      },
      "execution_count": null,
      "outputs": []
    },
    {
      "cell_type": "markdown",
      "source": [
        "##### 1. Why did you pick the specific chart?"
      ],
      "metadata": {
        "id": "X_VqEhTip1ck"
      }
    },
    {
      "cell_type": "markdown",
      "source": [
        "I choosen this plot to check the Price Disrtibution."
      ],
      "metadata": {
        "id": "-vsMzt_np1ck"
      }
    },
    {
      "cell_type": "markdown",
      "source": [
        "##### 2. What is/are the insight(s) found from the chart?"
      ],
      "metadata": {
        "id": "8zGJKyg5p1ck"
      }
    },
    {
      "cell_type": "markdown",
      "source": [
        "* 400$ is top paid applications price\n",
        "\n",
        "* Most of the applications price is between below 50$.\n",
        "\n",
        "* and very less between 150 to 350$ pricings.\n",
        "\n"
      ],
      "metadata": {
        "id": "ZYdMsrqVp1ck"
      }
    },
    {
      "cell_type": "markdown",
      "source": [
        "##### 3. Will the gained insights help creating a positive business impact?\n",
        "Are there any insights that lead to negative growth? Justify with specific reason."
      ],
      "metadata": {
        "id": "PVzmfK_Ep1ck"
      }
    },
    {
      "cell_type": "markdown",
      "source": [
        "* Application price will be play imporatant role in installs."
      ],
      "metadata": {
        "id": "druuKYZpp1ck"
      }
    },
    {
      "cell_type": "markdown",
      "source": [
        "#### Chart - 12"
      ],
      "metadata": {
        "id": "n3dbpmDWp1ck"
      }
    },
    {
      "cell_type": "code",
      "source": [
        "# Chart - 12 visualization code\n",
        "plt.figure(figsize=(10, 6))\n",
        "plt.hist(app_data['Size'], bins=20)\n",
        "plt.xlabel('Size')\n",
        "plt.ylabel('Number of Apps')\n",
        "plt.title('Distribution of App Sizes')\n",
        "plt.show()"
      ],
      "metadata": {
        "id": "bwevp1tKp1ck"
      },
      "execution_count": null,
      "outputs": []
    },
    {
      "cell_type": "markdown",
      "source": [
        "##### 1. Why did you pick the specific chart?"
      ],
      "metadata": {
        "id": "ylSl6qgtp1ck"
      }
    },
    {
      "cell_type": "markdown",
      "source": [
        "I choosen this plot to check the app size distribution"
      ],
      "metadata": {
        "id": "m2xqNkiQp1ck"
      }
    },
    {
      "cell_type": "markdown",
      "source": [
        "##### 2. What is/are the insight(s) found from the chart?"
      ],
      "metadata": {
        "id": "ZWILFDl5p1ck"
      }
    },
    {
      "cell_type": "markdown",
      "source": [
        "* Most of the application are below 50Mb app size"
      ],
      "metadata": {
        "id": "x-lUsV2mp1ck"
      }
    },
    {
      "cell_type": "markdown",
      "source": [
        "##### 3. Will the gained insights help creating a positive business impact?\n",
        "Are there any insights that lead to negative growth? Justify with specific reason."
      ],
      "metadata": {
        "id": "M7G43BXep1ck"
      }
    },
    {
      "cell_type": "markdown",
      "source": [
        "* Obviously app size will play importatnt role to get userws. its should not be\n",
        "  more and not should be less."
      ],
      "metadata": {
        "id": "5wwDJXsLp1cl"
      }
    },
    {
      "cell_type": "markdown",
      "source": [
        "#### Chart - 13"
      ],
      "metadata": {
        "id": "Ag9LCva-p1cl"
      }
    },
    {
      "cell_type": "code",
      "source": [
        "# Chart - 13 visualization code\n",
        "# Assuming the 'Type' column contains values 'Free' and 'Paid'\n",
        "type_category_counts = app_data.groupby(['Category', 'Type']).size().unstack()\n",
        "\n",
        "plt.figure(figsize=(12, 6))\n",
        "type_category_counts.plot(kind='bar', stacked=True)\n",
        "plt.xlabel('Category')\n",
        "plt.ylabel('Number of Apps')\n",
        "plt.title('Number of Free and Paid Apps in Each Category')\n",
        "plt.legend(title='Type', loc='upper right', labels=['Free', 'Paid'])\n",
        "plt.xticks(rotation=90)\n",
        "plt.show()\n"
      ],
      "metadata": {
        "id": "EUfxeq9-p1cl"
      },
      "execution_count": null,
      "outputs": []
    },
    {
      "cell_type": "markdown",
      "source": [
        "##### 1. Why did you pick the specific chart?"
      ],
      "metadata": {
        "id": "E6MkPsBcp1cl"
      }
    },
    {
      "cell_type": "markdown",
      "source": [
        "I choosen this plot to check which category have which type of applications"
      ],
      "metadata": {
        "id": "V22bRsFWp1cl"
      }
    },
    {
      "cell_type": "markdown",
      "source": [
        "##### 2. What is/are the insight(s) found from the chart?"
      ],
      "metadata": {
        "id": "2cELzS2fp1cl"
      }
    },
    {
      "cell_type": "markdown",
      "source": [
        "* Most of the Category have each type of applications."
      ],
      "metadata": {
        "id": "ozQPc2_Ip1cl"
      }
    },
    {
      "cell_type": "markdown",
      "source": [
        "##### 3. Will the gained insights help creating a positive business impact?\n",
        "Are there any insights that lead to negative growth? Justify with specific reason."
      ],
      "metadata": {
        "id": "3MPXvC8up1cl"
      }
    },
    {
      "cell_type": "markdown",
      "source": [
        "* High amount of application are Free type only. and those are only have more\n",
        "  users too."
      ],
      "metadata": {
        "id": "GL8l1tdLp1cl"
      }
    },
    {
      "cell_type": "markdown",
      "source": [
        "#### Chart - 14 - Correlation Heatmap"
      ],
      "metadata": {
        "id": "NC_X3p0fY2L0"
      }
    },
    {
      "cell_type": "code",
      "source": [
        "# Correlation Heatmap visualization code\n",
        "\n",
        "numerical_columns = ['Rating', 'Reviews', 'Size', 'Installs', 'Price']\n",
        "correlation_matrix = app_data[numerical_columns].corr()\n",
        "\n",
        "plt.figure(figsize=(10, 8))\n",
        "sns.heatmap(correlation_matrix, annot=True, cmap='coolwarm', fmt=\".2f\", linewidths=0.5)\n",
        "plt.title('Correlation Heatmap of App Data')\n",
        "plt.show()\n"
      ],
      "metadata": {
        "id": "xyC9zolEZNRQ"
      },
      "execution_count": null,
      "outputs": []
    },
    {
      "cell_type": "markdown",
      "source": [
        "##### 1. Why did you pick the specific chart?"
      ],
      "metadata": {
        "id": "UV0SzAkaZNRQ"
      }
    },
    {
      "cell_type": "markdown",
      "source": [
        "To check the Correlation between the each Column"
      ],
      "metadata": {
        "id": "DVPuT8LYZNRQ"
      }
    },
    {
      "cell_type": "markdown",
      "source": [
        "##### 2. What is/are the insight(s) found from the chart?"
      ],
      "metadata": {
        "id": "YPEH6qLeZNRQ"
      }
    },
    {
      "cell_type": "markdown",
      "source": [
        "* The strongest positive correlation is between Reviews and Installs (0.64), which means that apps with more reviews tend to have more installs. This makes sense because more reviews indicate more popularity and user feedback.\n",
        "* The strongest negative correlation is between Rating and Price (-0.02), which means that apps with higher ratings tend to have lower prices. This could be because users are more likely to rate apps favorably if they are free or cheap.\n",
        "* There is no correlation between Size and Installs (0), which means that the size of an app does not affect how many times it is installed. This could be because users do not care much about the size of an app when they download it"
      ],
      "metadata": {
        "id": "bfSqtnDqZNRR"
      }
    },
    {
      "cell_type": "markdown",
      "source": [
        "#### Chart - 15 - Pair Plot"
      ],
      "metadata": {
        "id": "q29F0dvdveiT"
      }
    },
    {
      "cell_type": "code",
      "source": [
        "# Pair Plot visualization code\n",
        "numerical_columns = ['Rating', 'Reviews', 'Size', 'Installs', 'Price']\n",
        "sns.pairplot(app_data[numerical_columns])\n",
        "plt.suptitle('Pair Plot of App Data', y=1.02)\n",
        "plt.show()"
      ],
      "metadata": {
        "id": "o58-TEIhveiU"
      },
      "execution_count": null,
      "outputs": []
    },
    {
      "cell_type": "markdown",
      "source": [
        "##### 1. Why did you pick the specific chart?"
      ],
      "metadata": {
        "id": "EXh0U9oCveiU"
      }
    },
    {
      "cell_type": "markdown",
      "source": [
        "To identify the pattern and trend in the data Columns"
      ],
      "metadata": {
        "id": "eMmPjTByveiU"
      }
    },
    {
      "cell_type": "markdown",
      "source": [
        "##### 2. What is/are the insight(s) found from the chart?"
      ],
      "metadata": {
        "id": "22aHeOlLveiV"
      }
    },
    {
      "cell_type": "markdown",
      "source": [
        "- There is a **positive correlation** between the number of reviews and the rating of the app. This means that apps with more reviews tend to have higher ratings. This could indicate that users are more likely to rate an app if they are satisfied with it, or that apps with higher ratings attract more users and reviews.\n",
        "- There is a **negative correlation** between the price and the rating of the app. This means that apps with higher prices tend to have lower ratings. This could indicate that users are more sensitive to the price of the app and expect more quality and features from expensive apps, or that cheaper apps are more appealing and accessible to a larger audience.\n",
        "- There is a **weak correlation** between the size and the rating of the app. This means that the size of the app does not have a significant impact on its rating. This could indicate that users are more concerned about the functionality and usability of the app rather than its size, or that app developers optimize their apps to reduce their size without compromising their quality.\n",
        "- There is a **cluster** of apps with low price, low size, high rating, and high number of reviews. This could indicate that these apps are very popular and successful in the market, as they offer good value for money, take up less space on the device, provide high satisfaction to the users, and generate a lot of feedback."
      ],
      "metadata": {
        "id": "uPQ8RGwHveiV"
      }
    },
    {
      "cell_type": "markdown",
      "source": [
        "## **5. Solution to Business Objective**"
      ],
      "metadata": {
        "id": "JcMwzZxoAimU"
      }
    },
    {
      "cell_type": "markdown",
      "source": [
        "* **Focus on Quality**: Prioritize app quality and user experience to maintain high ratings and positive reviews. Regularly update and optimize the app based on user feedback.\n",
        "\n",
        "* **Understand User Preferences**: Analyze user preferences for app categories, content ratings, and genres to develop targeted marketing strategies.\n",
        "\n",
        "* **Pricing Optimization**: If offering paid apps, ensure that the price aligns with the perceived value and competitive landscape. Consider offering trial versions or in-app purchases to increase user engagement.\n",
        "\n",
        "* **Optimize App Size**: Keep the app size reasonable to minimize barriers to installation. Consider optimizing app assets and resources to reduce file size.\n",
        "\n",
        "* **Monitor Compatibility**: Stay updated with the latest Android versions and ensure app compatibility to reach a broader user base.\n",
        "\n",
        "* **Regular Updates**: Consistently update the app to introduce new features, fix bugs, and keep the app relevant to users' evolving needs.\n",
        "\n",
        "* **Market Research**: Continuously monitor the app market and competitors to identify opportunities and stay ahead in the competitive landscape."
      ],
      "metadata": {
        "id": "8G2x9gOozGDZ"
      }
    },
    {
      "cell_type": "markdown",
      "source": [
        "# **Conclusion**"
      ],
      "metadata": {
        "id": "gCX9965dhzqZ"
      }
    },
    {
      "cell_type": "markdown",
      "source": [
        "\n",
        "Based on the analysis of the app_data, several key insights and observations can be drawn. Here are some of the main conclusions:\n",
        "\n",
        "* **App Categories:** The data shows the distribution of apps across various categories. Some categories have a significantly higher number of apps than others. Further investigation into the popular categories can help understand user preferences and market trends.\n",
        "\n",
        "* **Ratings and Reviews:** The average app rating provides an insight into user satisfaction. Apps with higher ratings tend to have more positive reviews. It is essential for app developers to focus on improving app quality to maintain higher ratings and positive user feedback.\n",
        "\n",
        "* **Pricing Strategy:** The data shows a mix of free and paid apps. Paid apps need to provide added value to users to justify the cost. Developers can analyze user preferences for free vs. paid apps to optimize their pricing strategy.\n",
        "\n",
        "* **Content Rating and Genres:** Understanding the distribution of content ratings and genres can help identify the target audience for each app category. Tailoring app content to the appropriate audience can improve user engagement and satisfaction.\n",
        "\n",
        "* **App Size and Compatibility:** The size of the app can influence user decisions to install. Analyzing app size in relation to installs and ratings can provide insights into user preferences and device compatibility.\n",
        "\n",
        "* **Time-Based Analysis:** Tracking app updates over time helps identify trends in maintenance and improvement. Regular updates can positively impact user ratings and app performance.\n",
        "\n",
        "* **Correlations:** Analyzing correlations between numerical variables can reveal relationships and patterns in the data. For example, there might be a positive correlation between app installs and reviews, indicating that more popular apps tend to receive more reviews."
      ],
      "metadata": {
        "id": "Fjb1IsQkh3yE"
      }
    },
    {
      "cell_type": "markdown",
      "source": [
        "### ***Hurrah! You have successfully completed your EDA Capstone Project !!!***"
      ],
      "metadata": {
        "id": "gIfDvo9L0UH2"
      }
    }
  ]
}